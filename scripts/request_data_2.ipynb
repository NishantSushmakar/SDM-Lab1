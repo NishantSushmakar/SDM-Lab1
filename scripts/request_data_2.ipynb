{
 "cells": [
  {
   "cell_type": "code",
   "execution_count": 3,
   "metadata": {},
   "outputs": [],
   "source": [
    "import pandas as pd \n",
    "import numpy as np\n",
    "from semanticscholar import SemanticScholar\n",
    "from tqdm import tqdm\n",
    "import json"
   ]
  },
  {
   "cell_type": "code",
   "execution_count": 4,
   "metadata": {},
   "outputs": [],
   "source": [
    "sc = SemanticScholar(timeout=200)"
   ]
  },
  {
   "cell_type": "code",
   "execution_count": 5,
   "metadata": {},
   "outputs": [],
   "source": [
    "## Choose Keywords\n",
    "domain = {\n",
    "    \"Computer Science\":[\"data management\", \"indexing\", \"data modeling\", \"big data\", \n",
    "          \"data processing\", \"data storage\", \"data querying\"]\n",
    "    # \"Medicine\":[\"diagnosis\",\"health\",\"disease\",\"Genomic\"],\n",
    "    # \"Biology\": [\"genome\",\"Epigenomic\",\"phylogenetics\",\"receptor\"],\n",
    "    # \"Chemistry\":[\"synthesis\",\"Bioinorganic\",\"Molecular\",\"Chromatographic\"],\n",
    "    # \"Mathematics\":[\"curves\",\"probability\",\"Harmonic\",\"hyperbolic\"]\n",
    "}\n",
    "fields = [\"paperId\", \"corpusId\", \"externalIds\", \"url\", \"title\", \"abstract\", \"venue\",\n",
    "    \"publicationVenue\", \"year\", \"referenceCount\", \"citationCount\", \n",
    "    \"influentialCitationCount\", \"isOpenAccess\", \"openAccessPdf\", \n",
    "    \"fieldsOfStudy\", \"s2FieldsOfStudy\", \"publicationTypes\", \"publicationDate\",\n",
    "    \"journal\", \"citationStyles\", \"authors\", \"citations\", \"references\", \"tldr\"]"
   ]
  },
  {
   "cell_type": "code",
   "execution_count": 11,
   "metadata": {},
   "outputs": [
    {
     "data": {
      "text/plain": [
       "'data management| indexing| data modeling| big data| data processing| data storage| data querying'"
      ]
     },
     "execution_count": 11,
     "metadata": {},
     "output_type": "execute_result"
    }
   ],
   "source": [
    "\"| \".join(domain[keyword])"
   ]
  },
  {
   "cell_type": "code",
   "execution_count": 14,
   "metadata": {},
   "outputs": [
    {
     "name": "stderr",
     "output_type": "stream",
     "text": [
      "100%|██████████| 1/1 [00:13<00:00, 13.95s/it]\n"
     ]
    }
   ],
   "source": [
    "journal_papers = []\n",
    "conference_papers = []\n",
    "\n",
    "for keyword in tqdm(domain.keys()):\n",
    "        response_journal = sc.search_paper(query=\"| \".join(domain[keyword]),fields=fields,publication_types=[\"JournalArticle\"],fields_of_study=[f\"{keyword}\"],min_citation_count=5)\n",
    "        response_conference = sc.search_paper(query=\"| \".join(domain[keyword]),fields=fields,publication_types=[\"Conference\"],fields_of_study=[f\"{keyword}\"],min_citation_count=5)\n",
    "        journal_papers.extend(response_journal.items)\n",
    "        conference_papers.extend(response_conference.items)\n",
    "  "
   ]
  },
  {
   "cell_type": "code",
   "execution_count": 15,
   "metadata": {},
   "outputs": [
    {
     "name": "stdout",
     "output_type": "stream",
     "text": [
      "100\n",
      "100\n"
     ]
    }
   ],
   "source": [
    "print(len(conference_papers))\n",
    "print(len(journal_papers))"
   ]
  },
  {
   "cell_type": "code",
   "execution_count": 16,
   "metadata": {},
   "outputs": [],
   "source": [
    "new_conference_papers = [dict(x) for x in conference_papers]\n",
    "new_journal_papers = [dict(x) for x in journal_papers]"
   ]
  },
  {
   "cell_type": "code",
   "execution_count": 17,
   "metadata": {},
   "outputs": [],
   "source": [
    "with open(\"/Users/elnararb/Documents/UPC/Semantic Data Management/data/paper_details_new/conference_papers.json\",\"w\") as f:\n",
    "    json.dump(new_conference_papers,f)\n",
    "\n",
    "with open(\"/Users/elnararb/Documents/UPC/Semantic Data Management/data/paper_details_new/journal_papers.json\",\"w\") as f:\n",
    "    json.dump(new_journal_papers,f)"
   ]
  },
  {
   "cell_type": "code",
   "execution_count": 18,
   "metadata": {},
   "outputs": [],
   "source": [
    "lst_of_paperids_conference = []\n",
    "for x in conference_papers:\n",
    "    lst_of_paperids_conference.extend([cite['paperId'] for cite in x['citations'] if cite['paperId'] != None])   \n",
    "\n",
    "lst_of_paperids_conference = list(set(lst_of_paperids_conference))"
   ]
  },
  {
   "cell_type": "code",
   "execution_count": 19,
   "metadata": {},
   "outputs": [],
   "source": [
    "lst_of_paperids_journal = []\n",
    "for x in journal_papers:\n",
    "    lst_of_paperids_journal.extend([cite['paperId'] for cite in x['citations'] if cite['paperId'] != None])  \n",
    "\n",
    "lst_of_paperids_journal = list(set(lst_of_paperids_journal)) "
   ]
  },
  {
   "cell_type": "code",
   "execution_count": 20,
   "metadata": {},
   "outputs": [
    {
     "data": {
      "text/plain": [
       "6394"
      ]
     },
     "execution_count": 20,
     "metadata": {},
     "output_type": "execute_result"
    }
   ],
   "source": [
    "len(lst_of_paperids_journal)"
   ]
  },
  {
   "cell_type": "code",
   "execution_count": 21,
   "metadata": {},
   "outputs": [
    {
     "data": {
      "text/plain": [
       "1932"
      ]
     },
     "execution_count": 21,
     "metadata": {},
     "output_type": "execute_result"
    }
   ],
   "source": [
    "len(lst_of_paperids_conference)"
   ]
  },
  {
   "cell_type": "code",
   "execution_count": 22,
   "metadata": {},
   "outputs": [
    {
     "name": "stderr",
     "output_type": "stream",
     "text": [
      "100%|██████████| 4/4 [01:25<00:00, 21.29s/it]\n"
     ]
    }
   ],
   "source": [
    "chunk_size = 500 \n",
    "cited_conference_papers = []\n",
    "\n",
    "for i in tqdm(range(0, len(lst_of_paperids_conference), chunk_size)):\n",
    "    \n",
    "    chunk = lst_of_paperids_conference[i:min(i + chunk_size,len(lst_of_paperids_conference))]\n",
    "    response = sc.get_papers(paper_ids=chunk,fields=fields)\n",
    "    cited_conference_papers.extend(response)\n"
   ]
  },
  {
   "cell_type": "code",
   "execution_count": 24,
   "metadata": {},
   "outputs": [
    {
     "data": {
      "text/plain": [
       "1932"
      ]
     },
     "execution_count": 24,
     "metadata": {},
     "output_type": "execute_result"
    }
   ],
   "source": [
    "len(cited_conference_papers)"
   ]
  },
  {
   "cell_type": "code",
   "execution_count": 25,
   "metadata": {},
   "outputs": [
    {
     "name": "stderr",
     "output_type": "stream",
     "text": [
      "100%|██████████| 13/13 [07:24<00:00, 34.18s/it]\n"
     ]
    }
   ],
   "source": [
    "chunk_size = 500 \n",
    "cited_journal_papers = []\n",
    "\n",
    "for i in tqdm(range(0, len(lst_of_paperids_journal), chunk_size)):\n",
    "    \n",
    "    chunk = lst_of_paperids_journal[i:min(i + chunk_size,len(lst_of_paperids_journal))]\n",
    "    response = sc.get_papers(paper_ids=chunk,fields=fields)\n",
    "    cited_journal_papers.extend(response)"
   ]
  },
  {
   "cell_type": "code",
   "execution_count": 26,
   "metadata": {},
   "outputs": [
    {
     "data": {
      "text/plain": [
       "6394"
      ]
     },
     "execution_count": 26,
     "metadata": {},
     "output_type": "execute_result"
    }
   ],
   "source": [
    "len(cited_journal_papers)"
   ]
  },
  {
   "cell_type": "code",
   "execution_count": 27,
   "metadata": {},
   "outputs": [],
   "source": [
    "new_cited_conference_papers = [dict(x) for x in cited_conference_papers]"
   ]
  },
  {
   "cell_type": "code",
   "execution_count": 28,
   "metadata": {},
   "outputs": [],
   "source": [
    "new_cited_journal_papers = [dict(x) for x in cited_journal_papers]"
   ]
  },
  {
   "cell_type": "code",
   "execution_count": 31,
   "metadata": {},
   "outputs": [],
   "source": [
    "with open(\"/Users/elnararb/Documents/UPC/Semantic Data Management/data/paper_details_new/conference_papers_citations.json\",\"w\") as f:\n",
    "    json.dump(new_cited_conference_papers,f)\n",
    "\n",
    "with open(\"/Users/elnararb/Documents/UPC/Semantic Data Management/data/paper_details_new/journal_papers_citations.json\",\"w\") as f:\n",
    "    json.dump(new_cited_journal_papers,f)"
   ]
  },
  {
   "cell_type": "code",
   "execution_count": 29,
   "metadata": {},
   "outputs": [],
   "source": [
    "lst_of_author_ids = []\n",
    "\n",
    "for paper in conference_papers :\n",
    "    lst_of_author_ids.extend([author['authorId'] for author in paper['authors']])\n",
    "\n",
    "for paper in journal_papers :\n",
    "    lst_of_author_ids.extend([author['authorId'] for author in paper['authors']])\n",
    "\n",
    "for paper in cited_conference_papers :\n",
    "    lst_of_author_ids.extend([author['authorId'] for author in paper['authors']])\n",
    "\n",
    "for paper in cited_journal_papers :\n",
    "    lst_of_author_ids.extend([author['authorId'] for author in paper['authors']])"
   ]
  },
  {
   "cell_type": "code",
   "execution_count": 30,
   "metadata": {},
   "outputs": [
    {
     "name": "stdout",
     "output_type": "stream",
     "text": [
      "35396\n",
      "25553\n"
     ]
    }
   ],
   "source": [
    "print(len(lst_of_author_ids))\n",
    "lst_of_author_ids = list(set(lst_of_author_ids))\n",
    "print(len(lst_of_author_ids))"
   ]
  },
  {
   "cell_type": "code",
   "execution_count": 32,
   "metadata": {},
   "outputs": [],
   "source": [
    "author_fields = ['authorId', 'externalIds', 'url', 'name', 'affiliations', 'homepage', 'paperCount', 'citationCount', 'hIndex']"
   ]
  },
  {
   "cell_type": "code",
   "execution_count": 33,
   "metadata": {},
   "outputs": [
    {
     "name": "stderr",
     "output_type": "stream",
     "text": [
      " 20%|█▉        | 50/256 [04:15<35:37, 10.38s/it]WARNING:semanticscholar:IDs not found: [None]\n",
      " 74%|███████▍  | 190/256 [16:57<06:27,  5.87s/it]WARNING:semanticscholar:IDs not found: ['2156973200']\n",
      " 76%|███████▌  | 195/256 [17:32<08:09,  8.02s/it]WARNING:semanticscholar:IDs not found: ['2148346669']\n",
      " 86%|████████▋ | 221/256 [19:25<01:06,  1.90s/it]WARNING:semanticscholar:IDs not found: ['2148456778']\n",
      " 88%|████████▊ | 225/256 [19:59<02:12,  4.26s/it]WARNING:semanticscholar:IDs not found: ['2148889163']\n",
      " 93%|█████████▎| 238/256 [21:11<02:15,  7.51s/it]WARNING:semanticscholar:IDs not found: ['2180442516']\n",
      "100%|██████████| 256/256 [22:26<00:00,  5.26s/it]\n"
     ]
    }
   ],
   "source": [
    "\n",
    "chunk_size = 100\n",
    "author_details = []\n",
    "\n",
    "for i in tqdm(range(0, len(lst_of_author_ids), chunk_size)):\n",
    "    \n",
    "    chunk = lst_of_author_ids[i:min(i + chunk_size,len(lst_of_author_ids))]\n",
    "    response = sc.get_authors(chunk,fields=author_fields)\n",
    "\n",
    "    author_details.extend(response)\n",
    "  "
   ]
  },
  {
   "cell_type": "code",
   "execution_count": 34,
   "metadata": {},
   "outputs": [],
   "source": [
    "new_author_details = [dict(x) for x in author_details]"
   ]
  },
  {
   "cell_type": "code",
   "execution_count": 36,
   "metadata": {},
   "outputs": [],
   "source": [
    "with open(\"/Users/elnararb/Documents/UPC/Semantic Data Management/data/authors_details_new.json\",\"w\") as f:\n",
    "    json.dump(new_author_details,f)"
   ]
  },
  {
   "cell_type": "code",
   "execution_count": null,
   "metadata": {},
   "outputs": [],
   "source": []
  },
  {
   "cell_type": "code",
   "execution_count": null,
   "metadata": {},
   "outputs": [],
   "source": []
  }
 ],
 "metadata": {
  "kernelspec": {
   "display_name": "Python 3",
   "language": "python",
   "name": "python3"
  },
  "language_info": {
   "codemirror_mode": {
    "name": "ipython",
    "version": 3
   },
   "file_extension": ".py",
   "mimetype": "text/x-python",
   "name": "python",
   "nbconvert_exporter": "python",
   "pygments_lexer": "ipython3",
   "version": "3.13.0"
  }
 },
 "nbformat": 4,
 "nbformat_minor": 2
}
